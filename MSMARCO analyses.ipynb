{
 "cells": [
  {
   "cell_type": "code",
   "execution_count": 2,
   "id": "daf6dd36",
   "metadata": {},
   "outputs": [],
   "source": [
    "import pandas as pd\n",
    "\n",
    "collection = pd.DataFrame(pd.read_table(r\"C:\\Users\\Raul\\Documents\\MSMARCO\\collection.tsv\",delimiter='\\t',header=None))\n",
    "\n",
    "collection.columns = ['pid', 'passage']\n",
    "\n",
    "qrel = pd.DataFrame(pd.read_table(r\"C:\\Users\\Raul\\Documents\\MSMARCO\\qrels.dev.tsv\",delimiter='\\t',header=None))\n",
    "\n",
    "qrel.columns = ['Topic', 'Iteration', 'Document#', 'Relevancy']\n",
    "\n",
    "queries = pd.DataFrame(pd.read_table(r\"C:\\Users\\Raul\\Documents\\MSMARCO\\queries.dev.tsv\",delimiter='\\t',header=None))\n",
    "\n",
    "queries.columns = ['qid', 'query']"
   ]
  },
  {
   "cell_type": "code",
   "execution_count": 3,
   "id": "4f82f397",
   "metadata": {},
   "outputs": [
    {
     "name": "stdout",
     "output_type": "stream",
     "text": [
      "Value counts for pid:\n",
      "0          1\n",
      "20         1\n",
      "6          1\n",
      "7          1\n",
      "8          1\n",
      "          ..\n",
      "8841819    1\n",
      "8841820    1\n",
      "8841821    1\n",
      "8841807    1\n",
      "8841822    1\n",
      "Name: pid, Length: 8841823, dtype: int64\n",
      "\n",
      "Value counts for passage:\n",
      "The presence of communication amid scientific minds was equally important to the success of the Manhattan Project as scientific intellect was. The only cloud hanging over the impressive achievement of the atomic researchers and engineers is what their success truly meant; hundreds of thousands of innocent lives obliterated.                                                                                                                                                                                                     1\n",
      "Phloem is a conductive (or vascular) tissue found in plants. Phloem carries the products of photosynthesis (sucrose and glucose) from the leaves to other parts of the plant. â¦ The corresponding system that circulates water and minerals from the roots is called the xylem.                                                                                                                                                                                                                                                         1\n",
      "Nor will it attempt to substitute for the extraordinarily rich literature on the atomic bombs and the end of World War II. This collection does not attempt to document the origins and development of the Manhattan Project.                                                                                                                                                                                                                                                                                                             1\n",
      "Manhattan Project. The Manhattan Project was a research and development undertaking during World War II that produced the first nuclear weapons. It was led by the United States with the support of the United Kingdom and Canada. From 1942 to 1946, the project was under the direction of Major General Leslie Groves of the U.S. Army Corps of Engineers. Nuclear physicist Robert Oppenheimer was the director of the Los Alamos Laboratory that designed the actual bombs. The Army component of the project was designated the    1\n",
      "In June 1942, the United States Army Corps of Engineersbegan the Manhattan Project- The secret name for the 2 atomic bombs.                                                                                                                                                                                                                                                                                                                                                                                                               1\n",
      "                                                                                                                                                                                                                                                                                                                                                                                                                                                                                                                                         ..\n",
      "Thousands of people across the United States will be celebrating Independence Day on July 4 by attending a fireworks display. The red, orange, yellow, green, blue and purple colors exploding in the night sky during a fireworks display are created by the use of metal salts. Photo credit: Jeff Golden. In chemistry, a salt is defined as an ionic compound that is formed from the reaction of an acid and a base.                                                                                                                 1\n",
      "The recipe that creates blue, for example, includes varying amounts of copper chloride compounds, while red comes from strontium and lithium salts. Just like paints, secondary colors are made by mixing the ingredients of their primary-color relatives. A mixture of copper (blue) and strontium (red) makes purple.                                                                                                                                                                                                                  1\n",
      "On Independence Days of yore, old-timey crowds were dazzled by a mere sprinkle or two of off-white lights. Later generations oohed-and-aahed at more colorful displays, as chemical combos were developed that could light up the sky in Technicolor. The march of progress in pyrotechnics didn't stop there, though.                                                                                                                                                                                                                    1\n",
      "Data can be distributed (spread out) in different ways. But there are many cases where the data tends to be around a central value with no bias left or right, and it gets close to a Normal Distribution like this: A Normal Distribution. The Bell Curve is a Normal Distribution. And the yellow histogram shows some data that.                                                                                                                                                                                                       1\n",
      "View full size image. Behind the scenes of the dazzling light shows that spectators ooh and ahh at on the Fourth of July, are carefully crafted fireworks. Whether red, white and blue fountains or purple sparklers, each firework is packed with just the right mix of chemicals to create these colorful lights. Inside each handmade firework are small packets filled with special chemicals, mainly metal salts and metal oxides, which react to produce an array of colors.                                                        1\n",
      "Name: passage, Length: 8841823, dtype: int64\n",
      "\n",
      "Number of different values in pid: 8841823\n",
      "Number of different values in passage: 8841823\n"
     ]
    }
   ],
   "source": [
    "for col in collection.columns:\n",
    "    print(f\"Value counts for {col}:\")\n",
    "    print(collection[col].value_counts().sort_values(ascending=False))\n",
    "    print()\n",
    "\n",
    "for col in collection.columns:\n",
    "    print(f\"Number of different values in {col}: {collection[col].nunique()}\")"
   ]
  },
  {
   "cell_type": "code",
   "execution_count": 4,
   "id": "cc55adc8",
   "metadata": {},
   "outputs": [
    {
     "name": "stdout",
     "output_type": "stream",
     "text": [
      "Value counts for Topic:\n",
      "660579     6\n",
      "1102375    6\n",
      "29894      6\n",
      "440838     5\n",
      "879098     5\n",
      "          ..\n",
      "860529     1\n",
      "768854     1\n",
      "1091092    1\n",
      "846467     1\n",
      "371455     1\n",
      "Name: Topic, Length: 55578, dtype: int64\n",
      "\n",
      "Value counts for Iteration:\n",
      "0    59273\n",
      "Name: Iteration, dtype: int64\n",
      "\n",
      "Value counts for Document#:\n",
      "1497612    3\n",
      "436967     3\n",
      "5975       3\n",
      "542968     3\n",
      "7080202    3\n",
      "          ..\n",
      "8006153    1\n",
      "8006164    1\n",
      "8006226    1\n",
      "1330424    1\n",
      "8009476    1\n",
      "Name: Document#, Length: 59096, dtype: int64\n",
      "\n",
      "Value counts for Relevancy:\n",
      "1    59273\n",
      "Name: Relevancy, dtype: int64\n",
      "\n",
      "Number of different values in Topic: 55578\n",
      "Number of different values in Iteration: 1\n",
      "Number of different values in Document#: 59096\n",
      "Number of different values in Relevancy: 1\n"
     ]
    }
   ],
   "source": [
    "for col in qrel.columns:\n",
    "    print(f\"Value counts for {col}:\")\n",
    "    print(qrel[col].value_counts().sort_values(ascending=False))\n",
    "    print()\n",
    "\n",
    "for col in qrel.columns:\n",
    "    print(f\"Number of different values in {col}: {qrel[col].nunique()}\")"
   ]
  },
  {
   "cell_type": "code",
   "execution_count": 5,
   "id": "0d54997b",
   "metadata": {},
   "outputs": [
    {
     "name": "stdout",
     "output_type": "stream",
     "text": [
      "Value counts for qid:\n",
      "1048578    1\n",
      "1048581    1\n",
      "1048583    1\n",
      "1048584    1\n",
      "1048585    1\n",
      "          ..\n",
      "524271     1\n",
      "1048565    1\n",
      "1048570    1\n",
      "1048511    1\n",
      "524285     1\n",
      "Name: qid, Length: 101093, dtype: int64\n",
      "\n",
      "Value counts for query:\n",
      "cost of endless pools/swim spa                               1\n",
      "what is pbis?                                                1\n",
      "what is paydata                                              1\n",
      "what is pay range for warehouse specialist in minneapolis    1\n",
      "what is paula deen's brother                                 1\n",
      "                                                            ..\n",
      "trazodone for dogs side effects                              1\n",
      "who plays sebastian michaelis                                1\n",
      "what is pearls before swine?                                 1\n",
      "what is penny & giles vrvt                                   1\n",
      "treadmill incline meaning                                    1\n",
      "Name: query, Length: 101093, dtype: int64\n",
      "\n",
      "Number of different values in qid: 101093\n",
      "Number of different values in query: 101093\n"
     ]
    }
   ],
   "source": [
    "for col in queries.columns:\n",
    "    print(f\"Value counts for {col}:\")\n",
    "    print(queries[col].value_counts().sort_values(ascending=False))\n",
    "    print()\n",
    "\n",
    "for col in queries.columns:\n",
    "    print(f\"Number of different values in {col}: {queries[col].nunique()}\")"
   ]
  },
  {
   "cell_type": "code",
   "execution_count": 6,
   "id": "1d680281",
   "metadata": {},
   "outputs": [],
   "source": [
    "collection = pd.DataFrame(pd.read_csv(r\"C:\\Users\\Raul\\Documents\\Information-Retravel-System\\MSMARCO_SMALL\\collection_small.csv\"))\n",
    "\n",
    "qrel = pd.DataFrame(pd.read_csv(r\"C:\\Users\\Raul\\Documents\\Information-Retravel-System\\MSMARCO_SMALL\\qrel_small.csv\"))\n",
    "\n",
    "queries = pd.DataFrame(pd.read_csv(r\"C:\\Users\\Raul\\Documents\\Information-Retravel-System\\MSMARCO_SMALL\\queries_small.csv\"))"
   ]
  },
  {
   "cell_type": "code",
   "execution_count": 7,
   "id": "275755f4",
   "metadata": {},
   "outputs": [
    {
     "name": "stdout",
     "output_type": "stream",
     "text": [
      "Value counts for pid:\n",
      "1595       1\n",
      "14702      1\n",
      "19082      1\n",
      "16630      1\n",
      "16310      1\n",
      "          ..\n",
      "8831816    1\n",
      "8834922    1\n",
      "8835808    1\n",
      "8813695    1\n",
      "8838824    1\n",
      "Name: pid, Length: 8842, dtype: int64\n",
      "\n",
      "Value counts for passage:\n",
      "Beau Biden funeral: How the day unfolded. Funeral is held for Beau Biden, son of Vice President Joe Biden, in Wilmington, Delaware Saturday.                                                                                                                                                                                                                                                                                     1\n",
      "Learn about payment card authorization holds from the iTunes Store, iBooks Store, App Store, or Mac App Store. Like many other merchants, the iTunes Store, iBooks Store, App Store, and Mac App Store place an authorization hold on your payment card account for the approximate amount of any purchase you make.                                                                                                             1\n",
      "The sham chaplain came into our cells to exhort us, carrying a black bag, supposed to be full of tracts, and so often did he come that by the third day we had each stowed away at the foot of our beds a file, a brace of pistols, a pound of powder, and twenty slugs.                                                                                                                                                         1\n",
      "After all, no Republican had been elected to the U.S. Senate from the Bay State since Edward Brooke in 1972 â 38 years before! But in yet another twist of fate, Republican Scott Brown ran his campaign as the 41st senator against ObamaCare and shocked nearly everyone by winning the special election by 110,000 votes.                                                                                                   1\n",
      "Here is a color test to find out factors of your personality you may never before has suspected. Simply choose your overall favorite color from the nine featured here â and read the results below; RED â This is the color of extroversion, of a person with desire, appetite, a will to live life fully. You are somewhat aggressive, impulsive, perhaps athletic, surely quick to release your feelings and emotions.    1\n",
      "                                                                                                                                                                                                                                                                                                                                                                                                                                ..\n",
      "3 Medpace Reviews. Not the best place to work. Great that they have free lunch and workout facilities but those are the best perks they have. Very little positive feedback from upper management. I have not received much in the way of salary increases and the health insurance is very expensive.                                                                                                                           1\n",
      "As part of Dassault SystÃ¨mesâ DELMIA brand, Apriso products comprise a software and services solution that function like a manufacturing software-based platform for Manufacturing Operations Management.                                                                                                                                                                                                                     1\n",
      "Polymyalgia rheumatica is often seen in association with temporal arteritis. It is thought to be brought on by a viral or bacterial illness or trauma of some kind, but genetics does play a factor as well. Persons of Northern European descent are at greater risk.                                                                                                                                                           1\n",
      "Making the world better, one answer at a time. Fresh milk smells creamy. Sometimes it may smell like nothing at all. When you are trying to describe a scent, smell the milk and think about what memories, feelings, images, or words it brings to mind.                                                                                                                                                                        1\n",
      "To do payroll for employees, figure out the employee's gross pay; calculate and deduct income taxes; deduct FICA, payments, and other non-taxable deductions; pay employees with checks or direct deposits; submit paperwork for federal and state taxes; and pay the taxes online, says FitSmallBusiness.com.                                                                                                                   1\n",
      "Name: passage, Length: 8842, dtype: int64\n",
      "\n",
      "Number of different values in pid: 8842\n",
      "Number of different values in passage: 8842\n"
     ]
    }
   ],
   "source": [
    "for col in collection.columns:\n",
    "    print(f\"Value counts for {col}:\")\n",
    "    print(collection[col].value_counts().sort_values(ascending=False))\n",
    "    print()\n",
    "\n",
    "for col in collection.columns:\n",
    "    print(f\"Number of different values in {col}: {collection[col].nunique()}\")"
   ]
  },
  {
   "cell_type": "code",
   "execution_count": 8,
   "id": "af22a1fb",
   "metadata": {},
   "outputs": [
    {
     "name": "stdout",
     "output_type": "stream",
     "text": [
      "Value counts for Topic:\n",
      "1088978    1\n",
      "455372     1\n",
      "1054520    1\n",
      "1054100    1\n",
      "1046902    1\n",
      "          ..\n",
      "344221     1\n",
      "155119     1\n",
      "791843     1\n",
      "100250     1\n",
      "148708     1\n",
      "Name: Topic, Length: 69, dtype: int64\n",
      "\n",
      "Value counts for Iteration:\n",
      "0    69\n",
      "Name: Iteration, dtype: int64\n",
      "\n",
      "Value counts for Document#:\n",
      "7089373    1\n",
      "7501886    1\n",
      "7177755    1\n",
      "468467     1\n",
      "7190665    1\n",
      "          ..\n",
      "7934144    1\n",
      "7934952    1\n",
      "551596     1\n",
      "8004569    1\n",
      "8007989    1\n",
      "Name: Document#, Length: 69, dtype: int64\n",
      "\n",
      "Value counts for Relevancy:\n",
      "1    69\n",
      "Name: Relevancy, dtype: int64\n",
      "\n",
      "Number of different values in Topic: 69\n",
      "Number of different values in Iteration: 1\n",
      "Number of different values in Document#: 69\n",
      "Number of different values in Relevancy: 1\n"
     ]
    }
   ],
   "source": [
    "for col in qrel.columns:\n",
    "    print(f\"Value counts for {col}:\")\n",
    "    print(qrel[col].value_counts().sort_values(ascending=False))\n",
    "    print()\n",
    "\n",
    "for col in qrel.columns:\n",
    "    print(f\"Number of different values in {col}: {qrel[col].nunique()}\")"
   ]
  },
  {
   "cell_type": "code",
   "execution_count": 9,
   "id": "e88c8166",
   "metadata": {},
   "outputs": [
    {
     "name": "stdout",
     "output_type": "stream",
     "text": [
      "Value counts for qid:\n",
      "1049079    1\n",
      "1102404    1\n",
      "781359     1\n",
      "1054100    1\n",
      "1054520    1\n",
      "          ..\n",
      "1033485    1\n",
      "248922     1\n",
      "1042284    1\n",
      "1044123    1\n",
      "261277     1\n",
      "Name: qid, Length: 62, dtype: int64\n",
      "\n",
      "Value counts for query:\n",
      "who published first measure of intelligence                                  1\n",
      "why do authors use synecdoche                                                1\n",
      "what is parachuting                                                          1\n",
      "what is highest amount in us dollar bill                                     1\n",
      "what is gold's hardness on the mohs scale                                    1\n",
      "                                                                            ..\n",
      "what is the purpose of the cdc center for disease control and prevention?    1\n",
      "how long does a black eye last                                               1\n",
      "what is the council of vocations                                             1\n",
      "what is the benefits of using the sauna before workout                       1\n",
      "how long for pies to cool to room temperature?                               1\n",
      "Name: query, Length: 62, dtype: int64\n",
      "\n",
      "Number of different values in qid: 62\n",
      "Number of different values in query: 62\n"
     ]
    }
   ],
   "source": [
    "for col in queries.columns:\n",
    "    print(f\"Value counts for {col}:\")\n",
    "    print(queries[col].value_counts().sort_values(ascending=False))\n",
    "    print()\n",
    "\n",
    "for col in queries.columns:\n",
    "    print(f\"Number of different values in {col}: {queries[col].nunique()}\")"
   ]
  },
  {
   "cell_type": "code",
   "execution_count": 15,
   "id": "b7b04132",
   "metadata": {},
   "outputs": [],
   "source": [
    "for value in queries['qid']:\n",
    "    \n",
    "    if value not in qrel['Topic'].tolist():\n",
    "        \n",
    "        print(value)\n",
    "        "
   ]
  },
  {
   "cell_type": "code",
   "execution_count": 16,
   "id": "b8a71cea",
   "metadata": {},
   "outputs": [],
   "source": [
    "for value in qrel['Document#']:\n",
    "    \n",
    "    if value not in collection['pid'].tolist():\n",
    "        \n",
    "        print(value)"
   ]
  },
  {
   "cell_type": "code",
   "execution_count": null,
   "id": "30230b2f",
   "metadata": {},
   "outputs": [],
   "source": []
  }
 ],
 "metadata": {
  "kernelspec": {
   "display_name": "Python 3 (ipykernel)",
   "language": "python",
   "name": "python3"
  },
  "language_info": {
   "codemirror_mode": {
    "name": "ipython",
    "version": 3
   },
   "file_extension": ".py",
   "mimetype": "text/x-python",
   "name": "python",
   "nbconvert_exporter": "python",
   "pygments_lexer": "ipython3",
   "version": "3.9.17"
  }
 },
 "nbformat": 4,
 "nbformat_minor": 5
}
