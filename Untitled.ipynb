{
 "cells": [
  {
   "cell_type": "code",
   "execution_count": 1,
   "id": "b98fe11a",
   "metadata": {},
   "outputs": [
    {
     "ename": "ModuleNotFoundError",
     "evalue": "No module named 'pyserini'",
     "output_type": "error",
     "traceback": [
      "\u001b[1;31m---------------------------------------------------------------------------\u001b[0m",
      "\u001b[1;31mModuleNotFoundError\u001b[0m                       Traceback (most recent call last)",
      "Input \u001b[1;32mIn [1]\u001b[0m, in \u001b[0;36m<cell line: 2>\u001b[1;34m()\u001b[0m\n\u001b[0;32m      1\u001b[0m \u001b[38;5;28;01mimport\u001b[39;00m \u001b[38;5;21;01mpandas\u001b[39;00m \u001b[38;5;28;01mas\u001b[39;00m \u001b[38;5;21;01mpd\u001b[39;00m\n\u001b[1;32m----> 2\u001b[0m \u001b[38;5;28;01mfrom\u001b[39;00m \u001b[38;5;21;01mpyserini\u001b[39;00m\u001b[38;5;21;01m.\u001b[39;00m\u001b[38;5;21;01msearch\u001b[39;00m \u001b[38;5;28;01mimport\u001b[39;00m SimpleSearcher\n\u001b[0;32m      3\u001b[0m \u001b[38;5;28;01mfrom\u001b[39;00m \u001b[38;5;21;01mpyserini\u001b[39;00m\u001b[38;5;21;01m.\u001b[39;00m\u001b[38;5;21;01meval\u001b[39;00m \u001b[38;5;28;01mimport\u001b[39;00m ndcg\n",
      "\u001b[1;31mModuleNotFoundError\u001b[0m: No module named 'pyserini'"
     ]
    }
   ],
   "source": [
    "import pandas as pd\n",
    "from pyserini.search import SimpleSearcher\n",
    "from pyserini.eval import ndcg"
   ]
  },
  {
   "cell_type": "code",
   "execution_count": null,
   "id": "bbd743cb",
   "metadata": {},
   "outputs": [],
   "source": [
    "# Load queries from CSV file\n",
    "queries = pd.read_csv('queries.csv', names=['qid', 'query'])\n",
    "\n",
    "# Load passages from CSV file\n",
    "passages = pd.read_csv('passages.csv', names=['pid', 'passage'])\n",
    "\n",
    "# Load qrels from CSV file\n",
    "qrels = pd.read_csv('qrels.csv', names=['qid', 'iter', 'docno', 'relevancy'], sep=' ')"
   ]
  },
  {
   "cell_type": "code",
   "execution_count": null,
   "id": "3ce0233d",
   "metadata": {},
   "outputs": [],
   "source": [
    "# Initialize searcher with Anserini's BM25 model\n",
    "searcher = SimpleSearcher('path/to/your/index')\n",
    "searcher.set_bm25(k1=0.9, b=0.4)\n",
    "\n",
    "# Calculate NDCG scores per query\n",
    "for qid, query in queries.values:\n",
    "    hits = searcher.search(query, k=1000)\n",
    "    docnos = [hit.docid for hit in hits]\n",
    "    relevancies = [qrels[(qrels['qid'] == qid) & (qrels['docno'] == docno)]['relevancy'].values[0] if docno in qrels[qrels['qid'] == qid]['docno'].values else 0 for docno in docnos]\n",
    "    print(f'Query {qid}: NDCG@10 = {ndcg(relevancies[:10], 10)}')"
   ]
  }
 ],
 "metadata": {
  "kernelspec": {
   "display_name": "Python 3 (ipykernel)",
   "language": "python",
   "name": "python3"
  },
  "language_info": {
   "codemirror_mode": {
    "name": "ipython",
    "version": 3
   },
   "file_extension": ".py",
   "mimetype": "text/x-python",
   "name": "python",
   "nbconvert_exporter": "python",
   "pygments_lexer": "ipython3",
   "version": "3.9.17"
  }
 },
 "nbformat": 4,
 "nbformat_minor": 5
}
